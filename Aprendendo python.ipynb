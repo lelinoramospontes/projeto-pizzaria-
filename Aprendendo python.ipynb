{
 "cells": [
  {
   "cell_type": "code",
   "execution_count": 98,
   "id": "a99df994",
   "metadata": {},
   "outputs": [
    {
     "name": "stdout",
     "output_type": "stream",
     "text": [
      "Requirement already satisfied: pyautogui in c:\\users\\lelino\\anaconda3\\lib\\site-packages (0.9.53)\n",
      "Requirement already satisfied: pygetwindow>=0.0.5 in c:\\users\\lelino\\anaconda3\\lib\\site-packages (from pyautogui) (0.0.9)\n",
      "Requirement already satisfied: mouseinfo in c:\\users\\lelino\\anaconda3\\lib\\site-packages (from pyautogui) (0.1.3)\n",
      "Requirement already satisfied: PyTweening>=1.0.1 in c:\\users\\lelino\\anaconda3\\lib\\site-packages (from pyautogui) (1.0.4)\n",
      "Requirement already satisfied: pyscreeze>=0.1.21 in c:\\users\\lelino\\anaconda3\\lib\\site-packages (from pyautogui) (0.1.28)\n",
      "Requirement already satisfied: pymsgbox in c:\\users\\lelino\\anaconda3\\lib\\site-packages (from pyautogui) (1.0.9)\n",
      "Requirement already satisfied: pyrect in c:\\users\\lelino\\anaconda3\\lib\\site-packages (from pygetwindow>=0.0.5->pyautogui) (0.2.0)\n",
      "Requirement already satisfied: pyperclip in c:\\users\\lelino\\anaconda3\\lib\\site-packages (from mouseinfo->pyautogui) (1.8.2)\n",
      "Requirement already satisfied: pyperclip in c:\\users\\lelino\\anaconda3\\lib\\site-packages (1.8.2)\n",
      "Requirement already satisfied: pandas in c:\\users\\lelino\\anaconda3\\lib\\site-packages (1.3.4)\n",
      "Requirement already satisfied: python-dateutil>=2.7.3 in c:\\users\\lelino\\anaconda3\\lib\\site-packages (from pandas) (2.8.2)\n",
      "Requirement already satisfied: pytz>=2017.3 in c:\\users\\lelino\\anaconda3\\lib\\site-packages (from pandas) (2021.3)\n",
      "Requirement already satisfied: numpy>=1.17.3 in c:\\users\\lelino\\anaconda3\\lib\\site-packages (from pandas) (1.20.3)\n",
      "Requirement already satisfied: six>=1.5 in c:\\users\\lelino\\anaconda3\\lib\\site-packages (from python-dateutil>=2.7.3->pandas) (1.16.0)\n",
      "Requirement already satisfied: seaborn in c:\\users\\lelino\\anaconda3\\lib\\site-packages (0.11.2)\n",
      "Requirement already satisfied: scipy>=1.0 in c:\\users\\lelino\\anaconda3\\lib\\site-packages (from seaborn) (1.7.1)\n",
      "Requirement already satisfied: matplotlib>=2.2 in c:\\users\\lelino\\anaconda3\\lib\\site-packages (from seaborn) (3.4.3)\n",
      "Requirement already satisfied: numpy>=1.15 in c:\\users\\lelino\\anaconda3\\lib\\site-packages (from seaborn) (1.20.3)\n",
      "Requirement already satisfied: pandas>=0.23 in c:\\users\\lelino\\anaconda3\\lib\\site-packages (from seaborn) (1.3.4)\n",
      "Requirement already satisfied: python-dateutil>=2.7 in c:\\users\\lelino\\anaconda3\\lib\\site-packages (from matplotlib>=2.2->seaborn) (2.8.2)\n",
      "Requirement already satisfied: pyparsing>=2.2.1 in c:\\users\\lelino\\anaconda3\\lib\\site-packages (from matplotlib>=2.2->seaborn) (3.0.4)\n",
      "Requirement already satisfied: pillow>=6.2.0 in c:\\users\\lelino\\anaconda3\\lib\\site-packages (from matplotlib>=2.2->seaborn) (8.4.0)\n",
      "Requirement already satisfied: cycler>=0.10 in c:\\users\\lelino\\anaconda3\\lib\\site-packages (from matplotlib>=2.2->seaborn) (0.10.0)\n",
      "Requirement already satisfied: kiwisolver>=1.0.1 in c:\\users\\lelino\\anaconda3\\lib\\site-packages (from matplotlib>=2.2->seaborn) (1.3.1)\n",
      "Requirement already satisfied: six in c:\\users\\lelino\\anaconda3\\lib\\site-packages (from cycler>=0.10->matplotlib>=2.2->seaborn) (1.16.0)\n",
      "Requirement already satisfied: pytz>=2017.3 in c:\\users\\lelino\\anaconda3\\lib\\site-packages (from pandas>=0.23->seaborn) (2021.3)\n",
      "Requirement already satisfied: matplotlib in c:\\users\\lelino\\anaconda3\\lib\\site-packages (3.4.3)\n",
      "Requirement already satisfied: cycler>=0.10 in c:\\users\\lelino\\anaconda3\\lib\\site-packages (from matplotlib) (0.10.0)\n",
      "Requirement already satisfied: python-dateutil>=2.7 in c:\\users\\lelino\\anaconda3\\lib\\site-packages (from matplotlib) (2.8.2)\n",
      "Requirement already satisfied: pyparsing>=2.2.1 in c:\\users\\lelino\\anaconda3\\lib\\site-packages (from matplotlib) (3.0.4)\n",
      "Requirement already satisfied: pillow>=6.2.0 in c:\\users\\lelino\\anaconda3\\lib\\site-packages (from matplotlib) (8.4.0)\n",
      "Requirement already satisfied: kiwisolver>=1.0.1 in c:\\users\\lelino\\anaconda3\\lib\\site-packages (from matplotlib) (1.3.1)\n",
      "Requirement already satisfied: numpy>=1.16 in c:\\users\\lelino\\anaconda3\\lib\\site-packages (from matplotlib) (1.20.3)\n",
      "Requirement already satisfied: six in c:\\users\\lelino\\anaconda3\\lib\\site-packages (from cycler>=0.10->matplotlib) (1.16.0)\n",
      "Requirement already satisfied: plotly in c:\\users\\lelino\\anaconda3\\lib\\site-packages (5.8.0)\n",
      "Requirement already satisfied: tenacity>=6.2.0 in c:\\users\\lelino\\anaconda3\\lib\\site-packages (from plotly) (8.0.1)\n"
     ]
    }
   ],
   "source": [
    "!pip install pyautogui\n",
    "!pip install pyperclip\n",
    "!pip install pandas\n",
    "!pip install seaborn\n",
    "!pip install matplotlib\n",
    "!pip install plotly"
   ]
  },
  {
   "cell_type": "code",
   "execution_count": 101,
   "id": "3e3534fa",
   "metadata": {},
   "outputs": [
    {
     "data": {
      "text/html": [
       "<div>\n",
       "<style scoped>\n",
       "    .dataframe tbody tr th:only-of-type {\n",
       "        vertical-align: middle;\n",
       "    }\n",
       "\n",
       "    .dataframe tbody tr th {\n",
       "        vertical-align: top;\n",
       "    }\n",
       "\n",
       "    .dataframe thead th {\n",
       "        text-align: right;\n",
       "    }\n",
       "</style>\n",
       "<table border=\"1\" class=\"dataframe\">\n",
       "  <thead>\n",
       "    <tr style=\"text-align: right;\">\n",
       "      <th></th>\n",
       "      <th>Data/Hora Item</th>\n",
       "      <th>Qtd.</th>\n",
       "      <th>Valor Un. Item</th>\n",
       "      <th>Valor. Tot. Item</th>\n",
       "      <th>Tipo de Item</th>\n",
       "      <th>Nome Prod</th>\n",
       "      <th>Tipo Prod</th>\n",
       "      <th>Cat. Prod.</th>\n",
       "      <th>Valor Prod</th>\n",
       "      <th>Cod. Ped.</th>\n",
       "      <th>Núm. Mesa/Com.</th>\n",
       "      <th>Data Ab. Ped.</th>\n",
       "      <th>Data Fec. Ped.</th>\n",
       "      <th>Tipo Ped.</th>\n",
       "      <th>Stat. Ped.</th>\n",
       "    </tr>\n",
       "  </thead>\n",
       "  <tbody>\n",
       "    <tr>\n",
       "      <th>0</th>\n",
       "      <td>2022-02-15 19:02:41.736</td>\n",
       "      <td>1.0</td>\n",
       "      <td>35.0</td>\n",
       "      <td>35.00</td>\n",
       "      <td>Produto</td>\n",
       "      <td>Pizzas Brotinho Calabresa - Pack com 5 unidades</td>\n",
       "      <td>Produto</td>\n",
       "      <td>CONGELADOS</td>\n",
       "      <td>35.0</td>\n",
       "      <td>2038.0</td>\n",
       "      <td>NaN</td>\n",
       "      <td>2022-02-15 19:00:05.419</td>\n",
       "      <td>2022-02-16 19:03:40.638</td>\n",
       "      <td>Delivery</td>\n",
       "      <td>Finalizado Pago</td>\n",
       "    </tr>\n",
       "    <tr>\n",
       "      <th>1</th>\n",
       "      <td>2022-02-15 19:11:27.404</td>\n",
       "      <td>1.0</td>\n",
       "      <td>14.0</td>\n",
       "      <td>14.00</td>\n",
       "      <td>Produto</td>\n",
       "      <td>Pão Italiano</td>\n",
       "      <td>Produto</td>\n",
       "      <td>PÃES ARTESANAIS</td>\n",
       "      <td>14.0</td>\n",
       "      <td>2039.0</td>\n",
       "      <td>NaN</td>\n",
       "      <td>2022-02-15 19:08:32.591</td>\n",
       "      <td>2022-02-16 18:35:27.254</td>\n",
       "      <td>Delivery</td>\n",
       "      <td>Finalizado Pago</td>\n",
       "    </tr>\n",
       "    <tr>\n",
       "      <th>2</th>\n",
       "      <td>2022-02-15 19:12:44.078</td>\n",
       "      <td>2.0</td>\n",
       "      <td>18.0</td>\n",
       "      <td>36.00</td>\n",
       "      <td>Produto</td>\n",
       "      <td>Croissant - Pack com 5 unidades</td>\n",
       "      <td>Produto</td>\n",
       "      <td>CONGELADOS</td>\n",
       "      <td>18.0</td>\n",
       "      <td>2039.0</td>\n",
       "      <td>NaN</td>\n",
       "      <td>2022-02-15 19:08:32.591</td>\n",
       "      <td>2022-02-16 18:35:27.254</td>\n",
       "      <td>Delivery</td>\n",
       "      <td>Finalizado Pago</td>\n",
       "    </tr>\n",
       "    <tr>\n",
       "      <th>3</th>\n",
       "      <td>2022-02-16 13:27:36.930</td>\n",
       "      <td>2.0</td>\n",
       "      <td>40.0</td>\n",
       "      <td>80.00</td>\n",
       "      <td>Produto por tamanho</td>\n",
       "      <td>CALZONE Calzone de Calabresa com Catupiry GRANDE</td>\n",
       "      <td>Produto por Tamanho</td>\n",
       "      <td>CALZONES</td>\n",
       "      <td>40.0</td>\n",
       "      <td>2040.0</td>\n",
       "      <td>NaN</td>\n",
       "      <td>2022-02-16 13:22:49.854</td>\n",
       "      <td>2022-02-16 19:46:13.010</td>\n",
       "      <td>Delivery</td>\n",
       "      <td>Finalizado Pago</td>\n",
       "    </tr>\n",
       "    <tr>\n",
       "      <th>4</th>\n",
       "      <td>2022-02-16 13:28:01.038</td>\n",
       "      <td>3.0</td>\n",
       "      <td>10.0</td>\n",
       "      <td>30.00</td>\n",
       "      <td>Produto por tamanho</td>\n",
       "      <td>Banoffee Banoffee Fatia</td>\n",
       "      <td>Produto por Tamanho</td>\n",
       "      <td>SOBREMESAS</td>\n",
       "      <td>10.0</td>\n",
       "      <td>2040.0</td>\n",
       "      <td>NaN</td>\n",
       "      <td>2022-02-16 13:22:49.854</td>\n",
       "      <td>2022-02-16 19:46:13.010</td>\n",
       "      <td>Delivery</td>\n",
       "      <td>Finalizado Pago</td>\n",
       "    </tr>\n",
       "    <tr>\n",
       "      <th>...</th>\n",
       "      <td>...</td>\n",
       "      <td>...</td>\n",
       "      <td>...</td>\n",
       "      <td>...</td>\n",
       "      <td>...</td>\n",
       "      <td>...</td>\n",
       "      <td>...</td>\n",
       "      <td>...</td>\n",
       "      <td>...</td>\n",
       "      <td>...</td>\n",
       "      <td>...</td>\n",
       "      <td>...</td>\n",
       "      <td>...</td>\n",
       "      <td>...</td>\n",
       "      <td>...</td>\n",
       "    </tr>\n",
       "    <tr>\n",
       "      <th>203</th>\n",
       "      <td>2022-02-19 20:13:36.557</td>\n",
       "      <td>1.0</td>\n",
       "      <td>20.0</td>\n",
       "      <td>20.00</td>\n",
       "      <td>Produto por tamanho</td>\n",
       "      <td>CALZONE Calzone de Calabresa com Catupiry MÉDIO</td>\n",
       "      <td>Produto por Tamanho</td>\n",
       "      <td>CALZONES</td>\n",
       "      <td>20.0</td>\n",
       "      <td>2127.0</td>\n",
       "      <td>NaN</td>\n",
       "      <td>2022-02-19 20:12:40.708</td>\n",
       "      <td>2022-02-19 21:05:43.142</td>\n",
       "      <td>Delivery</td>\n",
       "      <td>Finalizado Pago</td>\n",
       "    </tr>\n",
       "    <tr>\n",
       "      <th>204</th>\n",
       "      <td>2022-02-19 20:13:48.161</td>\n",
       "      <td>1.0</td>\n",
       "      <td>14.0</td>\n",
       "      <td>14.00</td>\n",
       "      <td>Produto</td>\n",
       "      <td>Pide de Bacon</td>\n",
       "      <td>Produto</td>\n",
       "      <td>PIDE</td>\n",
       "      <td>14.0</td>\n",
       "      <td>2127.0</td>\n",
       "      <td>NaN</td>\n",
       "      <td>2022-02-19 20:12:40.708</td>\n",
       "      <td>2022-02-19 21:05:43.142</td>\n",
       "      <td>Delivery</td>\n",
       "      <td>Finalizado Pago</td>\n",
       "    </tr>\n",
       "    <tr>\n",
       "      <th>205</th>\n",
       "      <td>2022-02-19 20:14:00.541</td>\n",
       "      <td>1.0</td>\n",
       "      <td>25.0</td>\n",
       "      <td>25.00</td>\n",
       "      <td>Produto por tamanho</td>\n",
       "      <td>CALZONE Calzone de Camarão MÉDIO</td>\n",
       "      <td>Produto por Tamanho</td>\n",
       "      <td>CALZONES</td>\n",
       "      <td>25.0</td>\n",
       "      <td>2127.0</td>\n",
       "      <td>NaN</td>\n",
       "      <td>2022-02-19 20:12:40.708</td>\n",
       "      <td>2022-02-19 21:05:43.142</td>\n",
       "      <td>Delivery</td>\n",
       "      <td>Finalizado Pago</td>\n",
       "    </tr>\n",
       "    <tr>\n",
       "      <th>206</th>\n",
       "      <td>2022-02-19 20:44:35.707</td>\n",
       "      <td>1.0</td>\n",
       "      <td>10.0</td>\n",
       "      <td>20.00</td>\n",
       "      <td>Produto</td>\n",
       "      <td>Torta de Ninho com Oreo</td>\n",
       "      <td>Produto</td>\n",
       "      <td>SOBREMESAS</td>\n",
       "      <td>10.0</td>\n",
       "      <td>2124.0</td>\n",
       "      <td>NaN</td>\n",
       "      <td>2022-02-19 19:51:30.760</td>\n",
       "      <td>2022-02-19 20:47:48.749</td>\n",
       "      <td>Delivery</td>\n",
       "      <td>Finalizado Pago</td>\n",
       "    </tr>\n",
       "    <tr>\n",
       "      <th>207</th>\n",
       "      <td>NaT</td>\n",
       "      <td>276.0</td>\n",
       "      <td>NaN</td>\n",
       "      <td>4080.94</td>\n",
       "      <td>NaN</td>\n",
       "      <td>NaN</td>\n",
       "      <td>NaN</td>\n",
       "      <td>NaN</td>\n",
       "      <td>NaN</td>\n",
       "      <td>NaN</td>\n",
       "      <td>NaN</td>\n",
       "      <td>NaT</td>\n",
       "      <td>NaT</td>\n",
       "      <td>NaN</td>\n",
       "      <td>NaN</td>\n",
       "    </tr>\n",
       "  </tbody>\n",
       "</table>\n",
       "<p>208 rows × 15 columns</p>\n",
       "</div>"
      ],
      "text/plain": [
       "             Data/Hora Item   Qtd.  Valor Un. Item  Valor. Tot. Item  \\\n",
       "0   2022-02-15 19:02:41.736    1.0            35.0             35.00   \n",
       "1   2022-02-15 19:11:27.404    1.0            14.0             14.00   \n",
       "2   2022-02-15 19:12:44.078    2.0            18.0             36.00   \n",
       "3   2022-02-16 13:27:36.930    2.0            40.0             80.00   \n",
       "4   2022-02-16 13:28:01.038    3.0            10.0             30.00   \n",
       "..                      ...    ...             ...               ...   \n",
       "203 2022-02-19 20:13:36.557    1.0            20.0             20.00   \n",
       "204 2022-02-19 20:13:48.161    1.0            14.0             14.00   \n",
       "205 2022-02-19 20:14:00.541    1.0            25.0             25.00   \n",
       "206 2022-02-19 20:44:35.707    1.0            10.0             20.00   \n",
       "207                     NaT  276.0             NaN           4080.94   \n",
       "\n",
       "            Tipo de Item                                         Nome Prod  \\\n",
       "0                Produto   Pizzas Brotinho Calabresa - Pack com 5 unidades   \n",
       "1                Produto                                      Pão Italiano   \n",
       "2                Produto                   Croissant - Pack com 5 unidades   \n",
       "3    Produto por tamanho  CALZONE Calzone de Calabresa com Catupiry GRANDE   \n",
       "4    Produto por tamanho                           Banoffee Banoffee Fatia   \n",
       "..                   ...                                               ...   \n",
       "203  Produto por tamanho   CALZONE Calzone de Calabresa com Catupiry MÉDIO   \n",
       "204              Produto                                     Pide de Bacon   \n",
       "205  Produto por tamanho                  CALZONE Calzone de Camarão MÉDIO   \n",
       "206              Produto                           Torta de Ninho com Oreo   \n",
       "207                  NaN                                               NaN   \n",
       "\n",
       "               Tipo Prod       Cat. Prod.  Valor Prod  Cod. Ped.  \\\n",
       "0                Produto       CONGELADOS        35.0     2038.0   \n",
       "1                Produto  PÃES ARTESANAIS        14.0     2039.0   \n",
       "2                Produto       CONGELADOS        18.0     2039.0   \n",
       "3    Produto por Tamanho         CALZONES        40.0     2040.0   \n",
       "4    Produto por Tamanho       SOBREMESAS        10.0     2040.0   \n",
       "..                   ...              ...         ...        ...   \n",
       "203  Produto por Tamanho         CALZONES        20.0     2127.0   \n",
       "204              Produto             PIDE        14.0     2127.0   \n",
       "205  Produto por Tamanho         CALZONES        25.0     2127.0   \n",
       "206              Produto       SOBREMESAS        10.0     2124.0   \n",
       "207                  NaN              NaN         NaN        NaN   \n",
       "\n",
       "     Núm. Mesa/Com.           Data Ab. Ped.          Data Fec. Ped.  \\\n",
       "0               NaN 2022-02-15 19:00:05.419 2022-02-16 19:03:40.638   \n",
       "1               NaN 2022-02-15 19:08:32.591 2022-02-16 18:35:27.254   \n",
       "2               NaN 2022-02-15 19:08:32.591 2022-02-16 18:35:27.254   \n",
       "3               NaN 2022-02-16 13:22:49.854 2022-02-16 19:46:13.010   \n",
       "4               NaN 2022-02-16 13:22:49.854 2022-02-16 19:46:13.010   \n",
       "..              ...                     ...                     ...   \n",
       "203             NaN 2022-02-19 20:12:40.708 2022-02-19 21:05:43.142   \n",
       "204             NaN 2022-02-19 20:12:40.708 2022-02-19 21:05:43.142   \n",
       "205             NaN 2022-02-19 20:12:40.708 2022-02-19 21:05:43.142   \n",
       "206             NaN 2022-02-19 19:51:30.760 2022-02-19 20:47:48.749   \n",
       "207             NaN                     NaT                     NaT   \n",
       "\n",
       "        Tipo Ped.        Stat. Ped.  \n",
       "0    Delivery      Finalizado Pago   \n",
       "1    Delivery      Finalizado Pago   \n",
       "2    Delivery      Finalizado Pago   \n",
       "3    Delivery      Finalizado Pago   \n",
       "4    Delivery      Finalizado Pago   \n",
       "..            ...               ...  \n",
       "203  Delivery      Finalizado Pago   \n",
       "204  Delivery      Finalizado Pago   \n",
       "205  Delivery      Finalizado Pago   \n",
       "206  Delivery      Finalizado Pago   \n",
       "207           NaN               NaN  \n",
       "\n",
       "[208 rows x 15 columns]"
      ]
     },
     "metadata": {},
     "output_type": "display_data"
    },
    {
     "data": {
      "text/html": [
       "<div>\n",
       "<style scoped>\n",
       "    .dataframe tbody tr th:only-of-type {\n",
       "        vertical-align: middle;\n",
       "    }\n",
       "\n",
       "    .dataframe tbody tr th {\n",
       "        vertical-align: top;\n",
       "    }\n",
       "\n",
       "    .dataframe thead th {\n",
       "        text-align: right;\n",
       "    }\n",
       "</style>\n",
       "<table border=\"1\" class=\"dataframe\">\n",
       "  <thead>\n",
       "    <tr style=\"text-align: right;\">\n",
       "      <th></th>\n",
       "      <th>Qtd.</th>\n",
       "      <th>Valor Un. Item</th>\n",
       "      <th>Valor. Tot. Item</th>\n",
       "      <th>Nome Prod</th>\n",
       "      <th>Tipo Ped.</th>\n",
       "    </tr>\n",
       "  </thead>\n",
       "  <tbody>\n",
       "    <tr>\n",
       "      <th>0</th>\n",
       "      <td>1.0</td>\n",
       "      <td>35.0</td>\n",
       "      <td>35.00</td>\n",
       "      <td>Pizzas Brotinho Calabresa - Pack com 5 unidades</td>\n",
       "      <td>Delivery</td>\n",
       "    </tr>\n",
       "    <tr>\n",
       "      <th>1</th>\n",
       "      <td>1.0</td>\n",
       "      <td>14.0</td>\n",
       "      <td>14.00</td>\n",
       "      <td>Pão Italiano</td>\n",
       "      <td>Delivery</td>\n",
       "    </tr>\n",
       "    <tr>\n",
       "      <th>2</th>\n",
       "      <td>2.0</td>\n",
       "      <td>18.0</td>\n",
       "      <td>36.00</td>\n",
       "      <td>Croissant - Pack com 5 unidades</td>\n",
       "      <td>Delivery</td>\n",
       "    </tr>\n",
       "    <tr>\n",
       "      <th>3</th>\n",
       "      <td>2.0</td>\n",
       "      <td>40.0</td>\n",
       "      <td>80.00</td>\n",
       "      <td>CALZONE Calzone de Calabresa com Catupiry GRANDE</td>\n",
       "      <td>Delivery</td>\n",
       "    </tr>\n",
       "    <tr>\n",
       "      <th>4</th>\n",
       "      <td>3.0</td>\n",
       "      <td>10.0</td>\n",
       "      <td>30.00</td>\n",
       "      <td>Banoffee Banoffee Fatia</td>\n",
       "      <td>Delivery</td>\n",
       "    </tr>\n",
       "    <tr>\n",
       "      <th>...</th>\n",
       "      <td>...</td>\n",
       "      <td>...</td>\n",
       "      <td>...</td>\n",
       "      <td>...</td>\n",
       "      <td>...</td>\n",
       "    </tr>\n",
       "    <tr>\n",
       "      <th>203</th>\n",
       "      <td>1.0</td>\n",
       "      <td>20.0</td>\n",
       "      <td>20.00</td>\n",
       "      <td>CALZONE Calzone de Calabresa com Catupiry MÉDIO</td>\n",
       "      <td>Delivery</td>\n",
       "    </tr>\n",
       "    <tr>\n",
       "      <th>204</th>\n",
       "      <td>1.0</td>\n",
       "      <td>14.0</td>\n",
       "      <td>14.00</td>\n",
       "      <td>Pide de Bacon</td>\n",
       "      <td>Delivery</td>\n",
       "    </tr>\n",
       "    <tr>\n",
       "      <th>205</th>\n",
       "      <td>1.0</td>\n",
       "      <td>25.0</td>\n",
       "      <td>25.00</td>\n",
       "      <td>CALZONE Calzone de Camarão MÉDIO</td>\n",
       "      <td>Delivery</td>\n",
       "    </tr>\n",
       "    <tr>\n",
       "      <th>206</th>\n",
       "      <td>1.0</td>\n",
       "      <td>10.0</td>\n",
       "      <td>20.00</td>\n",
       "      <td>Torta de Ninho com Oreo</td>\n",
       "      <td>Delivery</td>\n",
       "    </tr>\n",
       "    <tr>\n",
       "      <th>207</th>\n",
       "      <td>276.0</td>\n",
       "      <td>NaN</td>\n",
       "      <td>4080.94</td>\n",
       "      <td>NaN</td>\n",
       "      <td>NaN</td>\n",
       "    </tr>\n",
       "  </tbody>\n",
       "</table>\n",
       "<p>208 rows × 5 columns</p>\n",
       "</div>"
      ],
      "text/plain": [
       "      Qtd.  Valor Un. Item  Valor. Tot. Item  \\\n",
       "0      1.0            35.0             35.00   \n",
       "1      1.0            14.0             14.00   \n",
       "2      2.0            18.0             36.00   \n",
       "3      2.0            40.0             80.00   \n",
       "4      3.0            10.0             30.00   \n",
       "..     ...             ...               ...   \n",
       "203    1.0            20.0             20.00   \n",
       "204    1.0            14.0             14.00   \n",
       "205    1.0            25.0             25.00   \n",
       "206    1.0            10.0             20.00   \n",
       "207  276.0             NaN           4080.94   \n",
       "\n",
       "                                            Nome Prod     Tipo Ped.  \n",
       "0     Pizzas Brotinho Calabresa - Pack com 5 unidades  Delivery      \n",
       "1                                        Pão Italiano  Delivery      \n",
       "2                     Croissant - Pack com 5 unidades  Delivery      \n",
       "3    CALZONE Calzone de Calabresa com Catupiry GRANDE  Delivery      \n",
       "4                             Banoffee Banoffee Fatia  Delivery      \n",
       "..                                                ...           ...  \n",
       "203   CALZONE Calzone de Calabresa com Catupiry MÉDIO  Delivery      \n",
       "204                                     Pide de Bacon  Delivery      \n",
       "205                  CALZONE Calzone de Camarão MÉDIO  Delivery      \n",
       "206                           Torta de Ninho com Oreo  Delivery      \n",
       "207                                               NaN           NaN  \n",
       "\n",
       "[208 rows x 5 columns]"
      ]
     },
     "metadata": {},
     "output_type": "display_data"
    },
    {
     "name": "stdout",
     "output_type": "stream",
     "text": [
      "<class 'pandas.core.frame.DataFrame'>\n",
      "Int64Index: 207 entries, 0 to 206\n",
      "Data columns (total 5 columns):\n",
      " #   Column            Non-Null Count  Dtype  \n",
      "---  ------            --------------  -----  \n",
      " 0   Qtd.              207 non-null    float64\n",
      " 1   Valor Un. Item    207 non-null    float64\n",
      " 2   Valor. Tot. Item  207 non-null    float64\n",
      " 3   Nome Prod         207 non-null    object \n",
      " 4   Tipo Ped.         207 non-null    object \n",
      "dtypes: float64(3), object(2)\n",
      "memory usage: 9.7+ KB\n",
      "None\n",
      "Esfiha de Queijo                           10\n",
      "Banoffee Banoffee Fatia                     9\n",
      "HAMBURGUER SMASH CEBOLA E BACON DUPLO       8\n",
      "HAMBURGUER SMASH CEBOLA E BACON SIMPLES     8\n",
      "Croissant - Pack com 5 unidades             7\n",
      "                                           ..\n",
      "Deep Dish Tradicional                       1\n",
      "Deep Dish Frango                            1\n",
      "Bacon                                       1\n",
      "Adicional de Bacon                          1\n",
      "CALZONE Calzone de Camarão MÉDIO            1\n",
      "Name: Nome Prod, Length: 81, dtype: int64\n",
      "\n",
      "\n",
      "Delivery        204\n",
      "Caixa             3\n",
      "Name: Tipo Ped., dtype: int64\n",
      "\n",
      "\n",
      "4.50     20\n",
      "18.00    19\n",
      "10.00    18\n",
      "3.50     15\n",
      "44.00    13\n",
      "20.00    11\n",
      "5.00     11\n",
      "15.00    10\n",
      "22.00    10\n",
      "17.00     9\n",
      "12.00     9\n",
      "14.00     8\n",
      "16.00     6\n",
      "42.00     6\n",
      "19.00     5\n",
      "40.00     4\n",
      "26.00     3\n",
      "59.97     3\n",
      "21.00     3\n",
      "37.00     3\n",
      "0.01      3\n",
      "52.00     2\n",
      "55.00     2\n",
      "4.00      2\n",
      "60.00     2\n",
      "8.00      2\n",
      "68.00     1\n",
      "32.00     1\n",
      "35.00     1\n",
      "24.00     1\n",
      "38.00     1\n",
      "70.00     1\n",
      "7.00      1\n",
      "25.00     1\n",
      "Name: Valor Un. Item, dtype: int64\n"
     ]
    },
    {
     "data": {
      "image/png": "[encoded data removed]",
      "text/plain": [
       "<Figure size 1440x720 with 1 Axes>"
      ]
     },
     "metadata": {
      "needs_background": "light"
     },
     "output_type": "display_data"
    }
   ],
   "source": [
    "# #Importanto as bibliotecas\n",
    "import pyautogui\n",
    "import pyperclip\n",
    "import time\n",
    "import seaborn \n",
    "import matplotlib\n",
    "\n",
    "# Um segundo entre as ações\n",
    "pyautogui.PAUSE = 1\n",
    "\n",
    "# Abrindo uma aba no navegador\n",
    "pyautogui.hotkey(\"ctrl\", \"t\")\n",
    "\n",
    "# Digitando o caminho do arquivo no drive\n",
    "pyautogui.write('https://drive.google.com/drive/u/0/folders/1EZon5XgSIocviShlb-nGV6FvKL3BUuY3')\n",
    "\n",
    "# Acionando enter\n",
    "pyautogui.press(\"enter\")\n",
    "\n",
    "# Esperar 3 segundos \n",
    "time.sleep(3)\n",
    "\n",
    "# Navegar no sistema ate encontar a base de dados\n",
    "pyautogui.click(x=451, y=461)\n",
    "pyautogui.click(x=1657, y=245)\n",
    "pyautogui.click(x=1416, y=700)\n",
    "time.sleep(5)\n",
    "\n",
    "# Exportar a base de dados\n",
    "import pandas as pd\n",
    "tabela = pd.read_excel(r\"C:\\Users\\Lelino\\Downloads\\Vendas-produtos.xlsx\")\n",
    "display (tabela)\n",
    "\n",
    "# Excluir colunas desnecessárias\n",
    "import pandas as pd\n",
    "tabela = pd.read_excel(r\"C:\\Users\\Lelino\\Downloads\\Vendas-produtos.xlsx\")\n",
    "tabela = tabela.drop([\"Data/Hora Item\",\"Tipo de Item\",\"Tipo Prod\",\"Cat. Prod.\",\"Valor Prod\",\"Cod. Ped.\",\"Núm. Mesa/Com.\",\n",
    "                      \"Data Ab. Ped.\",\"Data Fec. Ped.\", \"Stat. Ped.\"],axis=1)\n",
    "display (tabela)\n",
    "\n",
    "# Excluir linhas e colunas totalmente vazias(NAN) e mostrar informações da tabela\n",
    "tabela = tabela.dropna(how=\"all\",axis=1)\n",
    "tabela = tabela.dropna(how=\"any\",axis=0)\n",
    "print(tabela.info())\n",
    "\n",
    "# Agrupar dados da tabela\n",
    "print(tabela[\"Nome Prod\"].value_counts())\n",
    "print(\"\\n\")\n",
    "print(tabela[\"Tipo Ped.\"].value_counts())\n",
    "print('\\n')\n",
    "print(tabela[\"Valor Un. Item\"].value_counts())\n",
    "\n",
    "# Criando o gráfico dos dados \n",
    "import matplotlib.pyplot as plt\n",
    "import numpy as np\n",
    "plt.rcParams.update({'font.size':5})\n",
    "x= tabela[\"Nome Prod\"]\n",
    "y= tabela [\"Valor. Tot. Item\"]\n",
    "plt.figure(figsize = (20, 10))\n",
    "plt.bar(x,y)\n",
    "plt.show()"
   ]
  },
  {
   "cell_type": "code",
   "execution_count": 28,
   "id": "defb4893",
   "metadata": {},
   "outputs": [
    {
     "data": {
      "text/plain": [
       "Point(x=1416, y=700)"
      ]
     },
     "execution_count": 28,
     "metadata": {},
     "output_type": "execute_result"
    }
   ],
   "source": [
    "time.sleep(5)\n",
    "pyautogui.position()"
   ]
  },
  {
   "cell_type": "code",
   "execution_count": 99,
   "id": "7f854b51",
   "metadata": {},
   "outputs": [],
   "source": [
    "#tabela=tabela.loc[tabela['Cliente']!='Nao informado']\n",
    "#display (tabela)\n",
    "#print(tabela.info())\n"
   ]
  },
  {
   "cell_type": "code",
   "execution_count": 96,
   "id": "85074e6c",
   "metadata": {},
   "outputs": [
    {
     "data": {
      "text/html": [
       "<div>\n",
       "<style scoped>\n",
       "    .dataframe tbody tr th:only-of-type {\n",
       "        vertical-align: middle;\n",
       "    }\n",
       "\n",
       "    .dataframe tbody tr th {\n",
       "        vertical-align: top;\n",
       "    }\n",
       "\n",
       "    .dataframe thead th {\n",
       "        text-align: right;\n",
       "    }\n",
       "</style>\n",
       "<table border=\"1\" class=\"dataframe\">\n",
       "  <thead>\n",
       "    <tr style=\"text-align: right;\">\n",
       "      <th></th>\n",
       "      <th>Qtd.</th>\n",
       "      <th>Valor Un. Item</th>\n",
       "      <th>Valor. Tot. Item</th>\n",
       "      <th>Nome Prod</th>\n",
       "      <th>Tipo Ped.</th>\n",
       "    </tr>\n",
       "  </thead>\n",
       "  <tbody>\n",
       "    <tr>\n",
       "      <th>0</th>\n",
       "      <td>1.0</td>\n",
       "      <td>35.0</td>\n",
       "      <td>35.0</td>\n",
       "      <td>Pizzas Brotinho Calabresa - Pack com 5 unidades</td>\n",
       "      <td>Delivery</td>\n",
       "    </tr>\n",
       "    <tr>\n",
       "      <th>1</th>\n",
       "      <td>1.0</td>\n",
       "      <td>14.0</td>\n",
       "      <td>14.0</td>\n",
       "      <td>Pão Italiano</td>\n",
       "      <td>Delivery</td>\n",
       "    </tr>\n",
       "    <tr>\n",
       "      <th>2</th>\n",
       "      <td>2.0</td>\n",
       "      <td>18.0</td>\n",
       "      <td>36.0</td>\n",
       "      <td>Croissant - Pack com 5 unidades</td>\n",
       "      <td>Delivery</td>\n",
       "    </tr>\n",
       "    <tr>\n",
       "      <th>3</th>\n",
       "      <td>2.0</td>\n",
       "      <td>40.0</td>\n",
       "      <td>80.0</td>\n",
       "      <td>CALZONE Calzone de Calabresa com Catupiry GRANDE</td>\n",
       "      <td>Delivery</td>\n",
       "    </tr>\n",
       "    <tr>\n",
       "      <th>4</th>\n",
       "      <td>3.0</td>\n",
       "      <td>10.0</td>\n",
       "      <td>30.0</td>\n",
       "      <td>Banoffee Banoffee Fatia</td>\n",
       "      <td>Delivery</td>\n",
       "    </tr>\n",
       "    <tr>\n",
       "      <th>...</th>\n",
       "      <td>...</td>\n",
       "      <td>...</td>\n",
       "      <td>...</td>\n",
       "      <td>...</td>\n",
       "      <td>...</td>\n",
       "    </tr>\n",
       "    <tr>\n",
       "      <th>202</th>\n",
       "      <td>1.0</td>\n",
       "      <td>10.0</td>\n",
       "      <td>10.0</td>\n",
       "      <td>Torta de Ninho com Oreo</td>\n",
       "      <td>Delivery</td>\n",
       "    </tr>\n",
       "    <tr>\n",
       "      <th>203</th>\n",
       "      <td>1.0</td>\n",
       "      <td>20.0</td>\n",
       "      <td>20.0</td>\n",
       "      <td>CALZONE Calzone de Calabresa com Catupiry MÉDIO</td>\n",
       "      <td>Delivery</td>\n",
       "    </tr>\n",
       "    <tr>\n",
       "      <th>204</th>\n",
       "      <td>1.0</td>\n",
       "      <td>14.0</td>\n",
       "      <td>14.0</td>\n",
       "      <td>Pide de Bacon</td>\n",
       "      <td>Delivery</td>\n",
       "    </tr>\n",
       "    <tr>\n",
       "      <th>205</th>\n",
       "      <td>1.0</td>\n",
       "      <td>25.0</td>\n",
       "      <td>25.0</td>\n",
       "      <td>CALZONE Calzone de Camarão MÉDIO</td>\n",
       "      <td>Delivery</td>\n",
       "    </tr>\n",
       "    <tr>\n",
       "      <th>206</th>\n",
       "      <td>1.0</td>\n",
       "      <td>10.0</td>\n",
       "      <td>20.0</td>\n",
       "      <td>Torta de Ninho com Oreo</td>\n",
       "      <td>Delivery</td>\n",
       "    </tr>\n",
       "  </tbody>\n",
       "</table>\n",
       "<p>207 rows × 5 columns</p>\n",
       "</div>"
      ],
      "text/plain": [
       "     Qtd.  Valor Un. Item  Valor. Tot. Item  \\\n",
       "0     1.0            35.0              35.0   \n",
       "1     1.0            14.0              14.0   \n",
       "2     2.0            18.0              36.0   \n",
       "3     2.0            40.0              80.0   \n",
       "4     3.0            10.0              30.0   \n",
       "..    ...             ...               ...   \n",
       "202   1.0            10.0              10.0   \n",
       "203   1.0            20.0              20.0   \n",
       "204   1.0            14.0              14.0   \n",
       "205   1.0            25.0              25.0   \n",
       "206   1.0            10.0              20.0   \n",
       "\n",
       "                                            Nome Prod     Tipo Ped.  \n",
       "0     Pizzas Brotinho Calabresa - Pack com 5 unidades  Delivery      \n",
       "1                                        Pão Italiano  Delivery      \n",
       "2                     Croissant - Pack com 5 unidades  Delivery      \n",
       "3    CALZONE Calzone de Calabresa com Catupiry GRANDE  Delivery      \n",
       "4                             Banoffee Banoffee Fatia  Delivery      \n",
       "..                                                ...           ...  \n",
       "202                           Torta de Ninho com Oreo  Delivery      \n",
       "203   CALZONE Calzone de Calabresa com Catupiry MÉDIO  Delivery      \n",
       "204                                     Pide de Bacon  Delivery      \n",
       "205                  CALZONE Calzone de Camarão MÉDIO  Delivery      \n",
       "206                           Torta de Ninho com Oreo  Delivery      \n",
       "\n",
       "[207 rows x 5 columns]"
      ]
     },
     "metadata": {},
     "output_type": "display_data"
    },
    {
     "data": {
      "application/vnd.plotly.v1+json": {
       "config": {
        "plotlyServerURL": "https://plot.ly"
       },
       "data": [
        {
         "alignmentgroup": "True",
         "bingroup": "x",
         "hovertemplate": "Tipo Ped.=Delivery    <br>Nome Prod=%{x}<br>count=%{y}<extra></extra>",
         "legendgroup": "Delivery    ",
         "marker": {
          "color": "#636efa",
          "pattern": {
           "shape": ""
          }
         },
         "name": "Delivery    ",
         "offsetgroup": "Delivery    ",
         "orientation": "v",
         "showlegend": true,
         "type": "histogram",
         "x": [
          "Pizzas Brotinho Calabresa - Pack com 5 unidades",
          "Pão Italiano",
          "Croissant - Pack com 5 unidades",
          "CALZONE Calzone de Calabresa com Catupiry GRANDE",
          "Banoffee Banoffee Fatia",
          "Torta Crumble de Maçã - 400 Gr",
          "Quiche de Alho Poró - 400 Gr",
          "Croissant - Pack com 5 unidades",
          "HAMBURGUER SMASH CEBOLA E BACON DUPLO",
          "Massa artesanal - Ravioli de 3 Queijos - 250 Gr",
          "Bandeja Mista (Ravioli e Capeletti)",
          "Torta de Palmito - 400 Gr",
          "Torta de frango - 400 Gr",
          "Croissant - Pack com 5 unidades",
          "HAMBURGUER SMASH COM GELEIA DE BACON E CEBOLA AO SHOYO SIMPLES",
          "HAMBURGUER SMASH CEBOLA E BACON SIMPLES",
          "Banoffee Torta de Leite Ninho com Oreo Fatia",
          "HAMBURGUER SMASH CEBOLA E BACON DUPLO",
          "HAMBURGUER SMASH CEBOLA E BACON SIMPLES",
          "Banoffee Banoffee Fatia",
          "Esfiha de Queijo",
          "CALZONE Calzone Especial do Chef GRANDE",
          "Coca Cola 1 Litro",
          "HAMBURGUER SMASH CEBOLA E BACON SIMPLES",
          "HAMBURGUER SMASH COM MOLHO ESPECIAL DUPLO",
          "Pide a Moda da Casa",
          "Pide de Bacon",
          "Esfiha de frango com catupiry",
          "Esfiha de M&M's",
          "Esfiha de Calabresa e queijo",
          "Massa artesanal - Ravioli de 3 Queijos - 250 Gr",
          "HAMBURGUER SMASH CEBOLA E BACON SIMPLES",
          "Fanta Laranja Lata",
          "Pide de Bacon",
          "Esfiha de Queijo",
          "Esfiha de Brigadeiro",
          "Esfiha de Churros",
          "Croissant - Pack com 5 unidades",
          "Esfiha de Queijo",
          "Esfiha de Calabresa e queijo",
          "Esfiha de Queijo",
          "Esfiha de Calabresa e queijo",
          "Banoffee Torta de Leite Ninho com Oreo Fatia",
          "Esfiha de frango com catupiry",
          "Esfiha de Brigadeiro",
          "Esfiha de Queijo",
          "Molho de queijos",
          "Massa artesanal - Rondelli de Queijo - 250 Gr",
          "Massa de Macarrão 250g",
          "Banoffee Banoffee Média",
          "HAMBURGUER SMASH COM MOLHO ESPECIAL DUPLO",
          "HAMBURGUER SMASH CEBOLA E BACON DUPLO",
          "HAMBURGUER SMASH CATUPIRY DUPLO",
          "PIZZA Pizza de Camarão Grande",
          "PIZZA Pizza de Frango com catupiry Grande",
          "PIZZA Pizza Nordestina Grande",
          "Pide Margherita",
          "Pide Margherita",
          "Banoffee Banoffee Fatia",
          "Esfiha de Carne",
          "Esfiha de Queijo",
          "Esfiha de Churros",
          "Pide Margherita",
          "Esfiha de Carne",
          "Esfiha de Ovomaltine",
          "Esfiha de frango com catupiry",
          "Esfiha de Churros",
          "HAMBURGUER SMASH COM MOLHO ESPECIAL SIMPLES",
          "Torta de Ninho com Oreo",
          "HAMBURGUER SMASH CEBOLA E BACON DUPLO",
          "HAMBURGUER SMASH CEBOLA E BACON SIMPLES",
          "HAMBURGUER SMASH CEBOLA E BACON DUPLO",
          "PIZZA Pizza de Frango com catupiry Grande",
          "PIZZA Pizza Portuguesa Grande",
          "CALZONE Calzone de Calabresa com Catupiry MÉDIO",
          "Adicional de Cebola Caramelizada",
          "Deep Dish Tradicional",
          "Deep Dish Frango",
          "Esfiha de Ovomaltine",
          "HAMBURGUER SMASH CATUPIRY SIMPLES",
          "Esfiha de Brigadeiro",
          "Pide a Moda da Casa",
          "Pide de Bacon",
          "HAMBURGUER SMASH MARGHERITA SIMPLES",
          "CALZONE Calzone de Frango com catupiry MÉDIO",
          "CALZONE Calzone Margherita MÉDIO",
          "Combo \"Esfihas\"",
          "HAMBURGUER SMASH COM GELEIA DE BACON E CEBOLA AO SHOYO DUPLO",
          "HAMBURGUER SMASH COM MOLHO ESPECIAL DUPLO",
          "Bacon",
          "Banoffee Banoffee Fatia",
          "CALZONE Calzone de 4 Queijos GRANDE",
          "Adicional de Bacon",
          "CALZONE Calzone de Calabresa GRANDE",
          "Focaccia Tradicional",
          "Banoffee Banoffee Média",
          "Croissant - Pack com 5 unidades",
          "Croissant - Pack com 5 unidades",
          "Croissant - Pack com 5 unidades",
          "HAMBURGUER SMASH CEBOLA E BACON SIMPLES",
          "HAMBURGUER SMASH COM MOLHO ESPECIAL SIMPLES",
          "Esfiha de frango com catupiry",
          "Esfiha de Queijo",
          "Esfiha de Carne",
          "Esfiha de Calabresa e queijo",
          "Pide de Camarão",
          "Pide de Bacon",
          "CALZONE Calzone de Calabresa MÉDIO",
          "Esfiha de Queijo",
          "Esfiha de Brigadeiro",
          "PIZZA Pizza Margherita Grande",
          "PIZZA Pizza de Muçarela Grande",
          "PIZZA Pizza Especial do Chef Grande",
          "PIZZA Pizza Portuguesa Grande",
          "HAMBURGUER SMASH CEBOLA E BACON SIMPLES",
          "Pide a Moda da Casa",
          "Pide de Camarão",
          "Antepasto - Caponatta de Berinjela - 250 Gr",
          "PIZZA Pizza de Calabresa Grande",
          "PIZZA Pizza Margherita Grande",
          "HAMBURGUER SMASH CEBOLA E BACON DUPLO",
          "Esfiha de Brigadeiro",
          "Esfiha de frango com catupiry",
          "Esfiha de Ovomaltine",
          "Esfiha de Calabresa e queijo",
          "Esfiha de Carne",
          "Esfiha de Queijo",
          "HAMBURGUER SMASH CEBOLA E BACON DUPLO",
          "HAMBURGUER SMASH COM MOLHO ESPECIAL DUPLO",
          "Pide a Moda da Casa",
          "Pide de Bacon",
          "Pide de Presunto",
          "Pide a Moda da Casa",
          "Combo \"Esfihas\"",
          "Antepasto - Caponatta de Berinjela - 250 Gr",
          "Banoffee Torta de Leite Ninho com Oreo Fatia",
          "HAMBURGUER SMASH CATUPIRY SIMPLES",
          "HAMBURGUER SMASH CEBOLA E BACON SIMPLES",
          "PIZZA Pizza de Frango com catupiry Grande",
          "PIZZA Pizza Nordestina Grande",
          "CALZONE Calzone Portuguesa GRANDE",
          "HAMBURGUER SMASH MARGHERITA SIMPLES",
          "HAMBURGUER SMASH COM MOLHO ESPECIAL DUPLO",
          "Banoffee Banoffee Fatia",
          "Banoffee Torta de Leite Ninho com Oreo Fatia",
          "CALZONE Calzone Nordestino GRANDE",
          "Deep Dish Vegetariana",
          "Combo PIDE (INDIVIDUAL)",
          "Banoffee Banoffee Fatia",
          "Banoffee Torta de Leite Ninho com Oreo Fatia",
          "Focaccia Coberta",
          "Torta de frango - 400 Gr",
          "Torta Crumble de Maçã - 400 Gr",
          "Massa artesanal - Rondelli Misto - 250 Gr",
          "HAMBURGUER SMASH COM GELEIA DE BACON E CEBOLA AO SHOYO DUPLO",
          "Banoffee Banoffee Fatia",
          "Pide de Camarão",
          "Esfiha de Brigadeiro",
          "PIZZA Pizza de Calabresa com Catupiry (Calapiry) Grande",
          "PIZZA Pizza de Frango com catupiry Grande",
          "Esfiha de Churros",
          "Esfiha de Calabresa e queijo",
          "CALZONE Calzone de Calabresa MÉDIO",
          "CALZONE Calzone Especial do Chef MÉDIO",
          "CALZONE Calzone de 4 Queijos GRANDE",
          "CALZONE Calzone Margherita MÉDIO",
          "HAMBURGUER SMASH COM MOLHO ESPECIAL SIMPLES",
          "CALZONE Calzone Nordestino MÉDIO",
          "Pide Margherita",
          "PIZZA Pizza de Calabresa Grande",
          "PIZZA Pizza de Frango com catupiry Grande",
          "PIZZA Pizza Nordestina Grande",
          "PIZZA Pizza de Frango com catupiry Grande",
          "PIZZA Pizza Nordestina Grande",
          "CALZONE Calzone de 4 Queijos MÉDIO",
          "Combo \"Esfihas\"",
          "Esfiha de Churros (COMBO)",
          "Esfiha de M&M's (COMBO)",
          "Esfiha de Carne",
          "Esfiha de frango com catupiry",
          "Esfiha de Calabresa e queijo",
          "Esfiha de Queijo",
          "Esfiha de Brigadeiro",
          "Coca Cola Lata",
          "Pide de Camarão",
          "Banoffee Banoffee Fatia",
          "Torta de Ninho com Oreo",
          "Coca Cola 1 Litro",
          "HAMBURGUER SMASH COM GELEIA DE BACON E CEBOLA AO SHOYO DUPLO",
          "Pide a Moda da Casa",
          "HAMBURGUER SMASH CEBOLA E BACON DUPLO",
          "CALZONE Calzone de Calabresa MÉDIO",
          "Pide de Presunto",
          "Combo \"DEEP DISH\"",
          "CALZONE Calzone de Frango com catupiry MÉDIO",
          "CALZONE Calzone Margherita MÉDIO",
          "PIZZA Pizza de Camarão Grande",
          "PIZZA Pizza Especial do Chef Grande",
          "Banoffee Banoffee Fatia",
          "Torta de Ninho com Oreo",
          "CALZONE Calzone de Calabresa com Catupiry MÉDIO",
          "Pide de Bacon",
          "CALZONE Calzone de Camarão MÉDIO",
          "Torta de Ninho com Oreo"
         ],
         "xaxis": "x",
         "yaxis": "y"
        },
        {
         "alignmentgroup": "True",
         "bingroup": "x",
         "hovertemplate": "Tipo Ped.=Caixa       <br>Nome Prod=%{x}<br>count=%{y}<extra></extra>",
         "legendgroup": "Caixa       ",
         "marker": {
          "color": "#EF553B",
          "pattern": {
           "shape": ""
          }
         },
         "name": "Caixa       ",
         "offsetgroup": "Caixa       ",
         "orientation": "v",
         "showlegend": true,
         "type": "histogram",
         "x": [
          "Massa artesanal - Ravioli de 3 Queijos - 250 Gr",
          "Massa artesanal - Ravioli de Frango com Requeijão - 250 Gr",
          "Molho de tomate artesanal - 250 Gr"
         ],
         "xaxis": "x",
         "yaxis": "y"
        }
       ],
       "layout": {
        "barmode": "relative",
        "legend": {
         "title": {
          "text": "Tipo Ped."
         },
         "tracegroupgap": 0
        },
        "margin": {
         "t": 60
        },
        "template": {
         "data": {
          "bar": [
           {
            "error_x": {
             "color": "#2a3f5f"
            },
            "error_y": {
             "color": "#2a3f5f"
            },
            "marker": {
             "line": {
              "color": "#E5ECF6",
              "width": 0.5
             },
             "pattern": {
              "fillmode": "overlay",
              "size": 10,
              "solidity": 0.2
             }
            },
            "type": "bar"
           }
          ],
          "barpolar": [
           {
            "marker": {
             "line": {
              "color": "#E5ECF6",
              "width": 0.5
             },
             "pattern": {
              "fillmode": "overlay",
              "size": 10,
              "solidity": 0.2
             }
            },
            "type": "barpolar"
           }
          ],
          "carpet": [
           {
            "aaxis": {
             "endlinecolor": "#2a3f5f",
             "gridcolor": "white",
             "linecolor": "white",
             "minorgridcolor": "white",
             "startlinecolor": "#2a3f5f"
            },
            "baxis": {
             "endlinecolor": "#2a3f5f",
             "gridcolor": "white",
             "linecolor": "white",
             "minorgridcolor": "white",
             "startlinecolor": "#2a3f5f"
            },
            "type": "carpet"
           }
          ],
          "choropleth": [
           {
            "colorbar": {
             "outlinewidth": 0,
             "ticks": ""
            },
            "type": "choropleth"
           }
          ],
          "contour": [
           {
            "colorbar": {
             "outlinewidth": 0,
             "ticks": ""
            },
            "colorscale": [
             [
              0,
              "#0d0887"
             ],
             [
              0.1111111111111111,
              "#46039f"
             ],
             [
              0.2222222222222222,
              "#7201a8"
             ],
             [
              0.3333333333333333,
              "#9c179e"
             ],
             [
              0.4444444444444444,
              "#bd3786"
             ],
             [
              0.5555555555555556,
              "#d8576b"
             ],
             [
              0.6666666666666666,
              "#ed7953"
             ],
             [
              0.7777777777777778,
              "#fb9f3a"
             ],
             [
              0.8888888888888888,
              "#fdca26"
             ],
             [
              1,
              "#f0f921"
             ]
            ],
            "type": "contour"
           }
          ],
          "contourcarpet": [
           {
            "colorbar": {
             "outlinewidth": 0,
             "ticks": ""
            },
            "type": "contourcarpet"
           }
          ],
          "heatmap": [
           {
            "colorbar": {
             "outlinewidth": 0,
             "ticks": ""
            },
            "colorscale": [
             [
              0,
              "#0d0887"
             ],
             [
              0.1111111111111111,
              "#46039f"
             ],
             [
              0.2222222222222222,
              "#7201a8"
             ],
             [
              0.3333333333333333,
              "#9c179e"
             ],
             [
              0.4444444444444444,
              "#bd3786"
             ],
             [
              0.5555555555555556,
              "#d8576b"
             ],
             [
              0.6666666666666666,
              "#ed7953"
             ],
             [
              0.7777777777777778,
              "#fb9f3a"
             ],
             [
              0.8888888888888888,
              "#fdca26"
             ],
             [
              1,
              "#f0f921"
             ]
            ],
            "type": "heatmap"
           }
          ],
          "heatmapgl": [
           {
            "colorbar": {
             "outlinewidth": 0,
             "ticks": ""
            },
            "colorscale": [
             [
              0,
              "#0d0887"
             ],
             [
              0.1111111111111111,
              "#46039f"
             ],
             [
              0.2222222222222222,
              "#7201a8"
             ],
             [
              0.3333333333333333,
              "#9c179e"
             ],
             [
              0.4444444444444444,
              "#bd3786"
             ],
             [
              0.5555555555555556,
              "#d8576b"
             ],
             [
              0.6666666666666666,
              "#ed7953"
             ],
             [
              0.7777777777777778,
              "#fb9f3a"
             ],
             [
              0.8888888888888888,
              "#fdca26"
             ],
             [
              1,
              "#f0f921"
             ]
            ],
            "type": "heatmapgl"
           }
          ],
          "histogram": [
           {
            "marker": {
             "pattern": {
              "fillmode": "overlay",
              "size": 10,
              "solidity": 0.2
             }
            },
            "type": "histogram"
           }
          ],
          "histogram2d": [
           {
            "colorbar": {
             "outlinewidth": 0,
             "ticks": ""
            },
            "colorscale": [
             [
              0,
              "#0d0887"
             ],
             [
              0.1111111111111111,
              "#46039f"
             ],
             [
              0.2222222222222222,
              "#7201a8"
             ],
             [
              0.3333333333333333,
              "#9c179e"
             ],
             [
              0.4444444444444444,
              "#bd3786"
             ],
             [
              0.5555555555555556,
              "#d8576b"
             ],
             [
              0.6666666666666666,
              "#ed7953"
             ],
             [
              0.7777777777777778,
              "#fb9f3a"
             ],
             [
              0.8888888888888888,
              "#fdca26"
             ],
             [
              1,
              "#f0f921"
             ]
            ],
            "type": "histogram2d"
           }
          ],
          "histogram2dcontour": [
           {
            "colorbar": {
             "outlinewidth": 0,
             "ticks": ""
            },
            "colorscale": [
             [
              0,
              "#0d0887"
             ],
             [
              0.1111111111111111,
              "#46039f"
             ],
             [
              0.2222222222222222,
              "#7201a8"
             ],
             [
              0.3333333333333333,
              "#9c179e"
             ],
             [
              0.4444444444444444,
              "#bd3786"
             ],
             [
              0.5555555555555556,
              "#d8576b"
             ],
             [
              0.6666666666666666,
              "#ed7953"
             ],
             [
              0.7777777777777778,
              "#fb9f3a"
             ],
             [
              0.8888888888888888,
              "#fdca26"
             ],
             [
              1,
              "#f0f921"
             ]
            ],
            "type": "histogram2dcontour"
           }
          ],
          "mesh3d": [
           {
            "colorbar": {
             "outlinewidth": 0,
             "ticks": ""
            },
            "type": "mesh3d"
           }
          ],
          "parcoords": [
           {
            "line": {
             "colorbar": {
              "outlinewidth": 0,
              "ticks": ""
             }
            },
            "type": "parcoords"
           }
          ],
          "pie": [
           {
            "automargin": true,
            "type": "pie"
           }
          ],
          "scatter": [
           {
            "fillpattern": {
             "fillmode": "overlay",
             "size": 10,
             "solidity": 0.2
            },
            "type": "scatter"
           }
          ],
          "scatter3d": [
           {
            "line": {
             "colorbar": {
              "outlinewidth": 0,
              "ticks": ""
             }
            },
            "marker": {
             "colorbar": {
              "outlinewidth": 0,
              "ticks": ""
             }
            },
            "type": "scatter3d"
           }
          ],
          "scattercarpet": [
           {
            "marker": {
             "colorbar": {
              "outlinewidth": 0,
              "ticks": ""
             }
            },
            "type": "scattercarpet"
           }
          ],
          "scattergeo": [
           {
            "marker": {
             "colorbar": {
              "outlinewidth": 0,
              "ticks": ""
             }
            },
            "type": "scattergeo"
           }
          ],
          "scattergl": [
           {
            "marker": {
             "colorbar": {
              "outlinewidth": 0,
              "ticks": ""
             }
            },
            "type": "scattergl"
           }
          ],
          "scattermapbox": [
           {
            "marker": {
             "colorbar": {
              "outlinewidth": 0,
              "ticks": ""
             }
            },
            "type": "scattermapbox"
           }
          ],
          "scatterpolar": [
           {
            "marker": {
             "colorbar": {
              "outlinewidth": 0,
              "ticks": ""
             }
            },
            "type": "scatterpolar"
           }
          ],
          "scatterpolargl": [
           {
            "marker": {
             "colorbar": {
              "outlinewidth": 0,
              "ticks": ""
             }
            },
            "type": "scatterpolargl"
           }
          ],
          "scatterternary": [
           {
            "marker": {
             "colorbar": {
              "outlinewidth": 0,
              "ticks": ""
             }
            },
            "type": "scatterternary"
           }
          ],
          "surface": [
           {
            "colorbar": {
             "outlinewidth": 0,
             "ticks": ""
            },
            "colorscale": [
             [
              0,
              "#0d0887"
             ],
             [
              0.1111111111111111,
              "#46039f"
             ],
             [
              0.2222222222222222,
              "#7201a8"
             ],
             [
              0.3333333333333333,
              "#9c179e"
             ],
             [
              0.4444444444444444,
              "#bd3786"
             ],
             [
              0.5555555555555556,
              "#d8576b"
             ],
             [
              0.6666666666666666,
              "#ed7953"
             ],
             [
              0.7777777777777778,
              "#fb9f3a"
             ],
             [
              0.8888888888888888,
              "#fdca26"
             ],
             [
              1,
              "#f0f921"
             ]
            ],
            "type": "surface"
           }
          ],
          "table": [
           {
            "cells": {
             "fill": {
              "color": "#EBF0F8"
             },
             "line": {
              "color": "white"
             }
            },
            "header": {
             "fill": {
              "color": "#C8D4E3"
             },
             "line": {
              "color": "white"
             }
            },
            "type": "table"
           }
          ]
         },
         "layout": {
          "annotationdefaults": {
           "arrowcolor": "#2a3f5f",
           "arrowhead": 0,
           "arrowwidth": 1
          },
          "autotypenumbers": "strict",
          "coloraxis": {
           "colorbar": {
            "outlinewidth": 0,
            "ticks": ""
           }
          },
          "colorscale": {
           "diverging": [
            [
             0,
             "#8e0152"
            ],
            [
             0.1,
             "#c51b7d"
            ],
            [
             0.2,
             "#de77ae"
            ],
            [
             0.3,
             "#f1b6da"
            ],
            [
             0.4,
             "#fde0ef"
            ],
            [
             0.5,
             "#f7f7f7"
            ],
            [
             0.6,
             "#e6f5d0"
            ],
            [
             0.7,
             "#b8e186"
            ],
            [
             0.8,
             "#7fbc41"
            ],
            [
             0.9,
             "#4d9221"
            ],
            [
             1,
             "#276419"
            ]
           ],
           "sequential": [
            [
             0,
             "#0d0887"
            ],
            [
             0.1111111111111111,
             "#46039f"
            ],
            [
             0.2222222222222222,
             "#7201a8"
            ],
            [
             0.3333333333333333,
             "#9c179e"
            ],
            [
             0.4444444444444444,
             "#bd3786"
            ],
            [
             0.5555555555555556,
             "#d8576b"
            ],
            [
             0.6666666666666666,
             "#ed7953"
            ],
            [
             0.7777777777777778,
             "#fb9f3a"
            ],
            [
             0.8888888888888888,
             "#fdca26"
            ],
            [
             1,
             "#f0f921"
            ]
           ],
           "sequentialminus": [
            [
             0,
             "#0d0887"
            ],
            [
             0.1111111111111111,
             "#46039f"
            ],
            [
             0.2222222222222222,
             "#7201a8"
            ],
            [
             0.3333333333333333,
             "#9c179e"
            ],
            [
             0.4444444444444444,
             "#bd3786"
            ],
            [
             0.5555555555555556,
             "#d8576b"
            ],
            [
             0.6666666666666666,
             "#ed7953"
            ],
            [
             0.7777777777777778,
             "#fb9f3a"
            ],
            [
             0.8888888888888888,
             "#fdca26"
            ],
            [
             1,
             "#f0f921"
            ]
           ]
          },
          "colorway": [
           "#636efa",
           "#EF553B",
           "#00cc96",
           "#ab63fa",
           "#FFA15A",
           "#19d3f3",
           "#FF6692",
           "#B6E880",
           "#FF97FF",
           "#FECB52"
          ],
          "font": {
           "color": "#2a3f5f"
          },
          "geo": {
           "bgcolor": "white",
           "lakecolor": "white",
           "landcolor": "#E5ECF6",
           "showlakes": true,
           "showland": true,
           "subunitcolor": "white"
          },
          "hoverlabel": {
           "align": "left"
          },
          "hovermode": "closest",
          "mapbox": {
           "style": "light"
          },
          "paper_bgcolor": "white",
          "plot_bgcolor": "#E5ECF6",
          "polar": {
           "angularaxis": {
            "gridcolor": "white",
            "linecolor": "white",
            "ticks": ""
           },
           "bgcolor": "#E5ECF6",
           "radialaxis": {
            "gridcolor": "white",
            "linecolor": "white",
            "ticks": ""
           }
          },
          "scene": {
           "xaxis": {
            "backgroundcolor": "#E5ECF6",
            "gridcolor": "white",
            "gridwidth": 2,
            "linecolor": "white",
            "showbackground": true,
            "ticks": "",
            "zerolinecolor": "white"
           },
           "yaxis": {
            "backgroundcolor": "#E5ECF6",
            "gridcolor": "white",
            "gridwidth": 2,
            "linecolor": "white",
            "showbackground": true,
            "ticks": "",
            "zerolinecolor": "white"
           },
           "zaxis": {
            "backgroundcolor": "#E5ECF6",
            "gridcolor": "white",
            "gridwidth": 2,
            "linecolor": "white",
            "showbackground": true,
            "ticks": "",
            "zerolinecolor": "white"
           }
          },
          "shapedefaults": {
           "line": {
            "color": "#2a3f5f"
           }
          },
          "ternary": {
           "aaxis": {
            "gridcolor": "white",
            "linecolor": "white",
            "ticks": ""
           },
           "baxis": {
            "gridcolor": "white",
            "linecolor": "white",
            "ticks": ""
           },
           "bgcolor": "#E5ECF6",
           "caxis": {
            "gridcolor": "white",
            "linecolor": "white",
            "ticks": ""
           }
          },
          "title": {
           "x": 0.05
          },
          "xaxis": {
           "automargin": true,
           "gridcolor": "white",
           "linecolor": "white",
           "ticks": "",
           "title": {
            "standoff": 15
           },
           "zerolinecolor": "white",
           "zerolinewidth": 2
          },
          "yaxis": {
           "automargin": true,
           "gridcolor": "white",
           "linecolor": "white",
           "ticks": "",
           "title": {
            "standoff": 15
           },
           "zerolinecolor": "white",
           "zerolinewidth": 2
          }
         }
        },
        "xaxis": {
         "anchor": "y",
         "domain": [
          0,
          1
         ],
         "title": {
          "text": "Nome Prod"
         }
        },
        "yaxis": {
         "anchor": "x",
         "domain": [
          0,
          1
         ],
         "title": {
          "text": "count"
         }
        }
       }
      },
      "text/html": [
       "<div>                            <div id=\"9e129048-b443-4974-bfce-9a2bc0ba3293\" class=\"plotly-graph-div\" style=\"height:525px; width:100%;\"></div>            <script type=\"text/javascript\">                require([\"plotly\"], function(Plotly) {                    window.PLOTLYENV=window.PLOTLYENV || {};                                    if (document.getElementById(\"9e129048-b443-4974-bfce-9a2bc0ba3293\")) {                    Plotly.newPlot(                        \"9e129048-b443-4974-bfce-9a2bc0ba3293\",                        [{\"alignmentgroup\":\"True\",\"bingroup\":\"x\",\"hovertemplate\":\"Tipo Ped.=Delivery    <br>Nome Prod=%{x}<br>count=%{y}<extra></extra>\",\"legendgroup\":\"Delivery    \",\"marker\":{\"color\":\"#636efa\",\"pattern\":{\"shape\":\"\"}},\"name\":\"Delivery    \",\"offsetgroup\":\"Delivery    \",\"orientation\":\"v\",\"showlegend\":true,\"x\":[\"Pizzas Brotinho Calabresa - Pack com 5 unidades\",\"P\\u00e3o Italiano\",\"Croissant - Pack com 5 unidades\",\"CALZONE Calzone de Calabresa com Catupiry GRANDE\",\"Banoffee Banoffee Fatia\",\"Torta Crumble de Ma\\u00e7\\u00e3 - 400 Gr\",\"Quiche de Alho Por\\u00f3 - 400 Gr\",\"Croissant - Pack com 5 unidades\",\"HAMBURGUER SMASH CEBOLA E BACON DUPLO\",\"Massa artesanal - Ravioli de 3 Queijos - 250 Gr\",\"Bandeja Mista (Ravioli e Capeletti)\",\"Torta de Palmito - 400 Gr\",\"Torta de frango - 400 Gr\",\"Croissant - Pack com 5 unidades\",\"HAMBURGUER SMASH COM GELEIA DE BACON E CEBOLA AO SHOYO SIMPLES\",\"HAMBURGUER SMASH CEBOLA E BACON SIMPLES\",\"Banoffee Torta de Leite Ninho com Oreo Fatia\",\"HAMBURGUER SMASH CEBOLA E BACON DUPLO\",\"HAMBURGUER SMASH CEBOLA E BACON SIMPLES\",\"Banoffee Banoffee Fatia\",\"Esfiha de Queijo\",\"CALZONE Calzone Especial do Chef GRANDE\",\"Coca Cola 1 Litro\",\"HAMBURGUER SMASH CEBOLA E BACON SIMPLES\",\"HAMBURGUER SMASH COM MOLHO ESPECIAL DUPLO\",\"Pide a Moda da Casa\",\"Pide de Bacon\",\"Esfiha de frango com catupiry\",\"Esfiha de M&M's\",\"Esfiha de Calabresa e queijo\",\"Massa artesanal - Ravioli de 3 Queijos - 250 Gr\",\"HAMBURGUER SMASH CEBOLA E BACON SIMPLES\",\"Fanta Laranja Lata\",\"Pide de Bacon\",\"Esfiha de Queijo\",\"Esfiha de Brigadeiro\",\"Esfiha de Churros\",\"Croissant - Pack com 5 unidades\",\"Esfiha de Queijo\",\"Esfiha de Calabresa e queijo\",\"Esfiha de Queijo\",\"Esfiha de Calabresa e queijo\",\"Banoffee Torta de Leite Ninho com Oreo Fatia\",\"Esfiha de frango com catupiry\",\"Esfiha de Brigadeiro\",\"Esfiha de Queijo\",\"Molho de queijos\",\"Massa artesanal - Rondelli de Queijo - 250 Gr\",\"Massa de Macarr\\u00e3o 250g\",\"Banoffee Banoffee M\\u00e9dia\",\"HAMBURGUER SMASH COM MOLHO ESPECIAL DUPLO\",\"HAMBURGUER SMASH CEBOLA E BACON DUPLO\",\"HAMBURGUER SMASH CATUPIRY DUPLO\",\"PIZZA Pizza de Camar\\u00e3o Grande\",\"PIZZA Pizza de Frango com catupiry Grande\",\"PIZZA Pizza Nordestina Grande\",\"Pide Margherita\",\"Pide Margherita\",\"Banoffee Banoffee Fatia\",\"Esfiha de Carne\",\"Esfiha de Queijo\",\"Esfiha de Churros\",\"Pide Margherita\",\"Esfiha de Carne\",\"Esfiha de Ovomaltine\",\"Esfiha de frango com catupiry\",\"Esfiha de Churros\",\"HAMBURGUER SMASH COM MOLHO ESPECIAL SIMPLES\",\"Torta de Ninho com Oreo\",\"HAMBURGUER SMASH CEBOLA E BACON DUPLO\",\"HAMBURGUER SMASH CEBOLA E BACON SIMPLES\",\"HAMBURGUER SMASH CEBOLA E BACON DUPLO\",\"PIZZA Pizza de Frango com catupiry Grande\",\"PIZZA Pizza Portuguesa Grande\",\"CALZONE Calzone de Calabresa com Catupiry M\\u00c9DIO\",\"Adicional de Cebola Caramelizada\",\"Deep Dish Tradicional\",\"Deep Dish Frango\",\"Esfiha de Ovomaltine\",\"HAMBURGUER SMASH CATUPIRY SIMPLES\",\"Esfiha de Brigadeiro\",\"Pide a Moda da Casa\",\"Pide de Bacon\",\"HAMBURGUER SMASH MARGHERITA SIMPLES\",\"CALZONE Calzone de Frango com catupiry M\\u00c9DIO\",\"CALZONE Calzone Margherita M\\u00c9DIO\",\"Combo \\\"Esfihas\\\"\",\"HAMBURGUER SMASH COM GELEIA DE BACON E CEBOLA AO SHOYO DUPLO\",\"HAMBURGUER SMASH COM MOLHO ESPECIAL DUPLO\",\"Bacon\",\"Banoffee Banoffee Fatia\",\"CALZONE Calzone de 4 Queijos GRANDE\",\"Adicional de Bacon\",\"CALZONE Calzone de Calabresa GRANDE\",\"Focaccia Tradicional\",\"Banoffee Banoffee M\\u00e9dia\",\"Croissant - Pack com 5 unidades\",\"Croissant - Pack com 5 unidades\",\"Croissant - Pack com 5 unidades\",\"HAMBURGUER SMASH CEBOLA E BACON SIMPLES\",\"HAMBURGUER SMASH COM MOLHO ESPECIAL SIMPLES\",\"Esfiha de frango com catupiry\",\"Esfiha de Queijo\",\"Esfiha de Carne\",\"Esfiha de Calabresa e queijo\",\"Pide de Camar\\u00e3o\",\"Pide de Bacon\",\"CALZONE Calzone de Calabresa M\\u00c9DIO\",\"Esfiha de Queijo\",\"Esfiha de Brigadeiro\",\"PIZZA Pizza Margherita Grande\",\"PIZZA Pizza de Mu\\u00e7arela Grande\",\"PIZZA Pizza Especial do Chef Grande\",\"PIZZA Pizza Portuguesa Grande\",\"HAMBURGUER SMASH CEBOLA E BACON SIMPLES\",\"Pide a Moda da Casa\",\"Pide de Camar\\u00e3o\",\"Antepasto - Caponatta de Berinjela - 250 Gr\",\"PIZZA Pizza de Calabresa Grande\",\"PIZZA Pizza Margherita Grande\",\"HAMBURGUER SMASH CEBOLA E BACON DUPLO\",\"Esfiha de Brigadeiro\",\"Esfiha de frango com catupiry\",\"Esfiha de Ovomaltine\",\"Esfiha de Calabresa e queijo\",\"Esfiha de Carne\",\"Esfiha de Queijo\",\"HAMBURGUER SMASH CEBOLA E BACON DUPLO\",\"HAMBURGUER SMASH COM MOLHO ESPECIAL DUPLO\",\"Pide a Moda da Casa\",\"Pide de Bacon\",\"Pide de Presunto\",\"Pide a Moda da Casa\",\"Combo \\\"Esfihas\\\"\",\"Antepasto - Caponatta de Berinjela - 250 Gr\",\"Banoffee Torta de Leite Ninho com Oreo Fatia\",\"HAMBURGUER SMASH CATUPIRY SIMPLES\",\"HAMBURGUER SMASH CEBOLA E BACON SIMPLES\",\"PIZZA Pizza de Frango com catupiry Grande\",\"PIZZA Pizza Nordestina Grande\",\"CALZONE Calzone Portuguesa GRANDE\",\"HAMBURGUER SMASH MARGHERITA SIMPLES\",\"HAMBURGUER SMASH COM MOLHO ESPECIAL DUPLO\",\"Banoffee Banoffee Fatia\",\"Banoffee Torta de Leite Ninho com Oreo Fatia\",\"CALZONE Calzone Nordestino GRANDE\",\"Deep Dish Vegetariana\",\"Combo PIDE (INDIVIDUAL)\",\"Banoffee Banoffee Fatia\",\"Banoffee Torta de Leite Ninho com Oreo Fatia\",\"Focaccia Coberta\",\"Torta de frango - 400 Gr\",\"Torta Crumble de Ma\\u00e7\\u00e3 - 400 Gr\",\"Massa artesanal - Rondelli Misto - 250 Gr\",\"HAMBURGUER SMASH COM GELEIA DE BACON E CEBOLA AO SHOYO DUPLO\",\"Banoffee Banoffee Fatia\",\"Pide de Camar\\u00e3o\",\"Esfiha de Brigadeiro\",\"PIZZA Pizza de Calabresa com Catupiry (Calapiry) Grande\",\"PIZZA Pizza de Frango com catupiry Grande\",\"Esfiha de Churros\",\"Esfiha de Calabresa e queijo\",\"CALZONE Calzone de Calabresa M\\u00c9DIO\",\"CALZONE Calzone Especial do Chef M\\u00c9DIO\",\"CALZONE Calzone de 4 Queijos GRANDE\",\"CALZONE Calzone Margherita M\\u00c9DIO\",\"HAMBURGUER SMASH COM MOLHO ESPECIAL SIMPLES\",\"CALZONE Calzone Nordestino M\\u00c9DIO\",\"Pide Margherita\",\"PIZZA Pizza de Calabresa Grande\",\"PIZZA Pizza de Frango com catupiry Grande\",\"PIZZA Pizza Nordestina Grande\",\"PIZZA Pizza de Frango com catupiry Grande\",\"PIZZA Pizza Nordestina Grande\",\"CALZONE Calzone de 4 Queijos M\\u00c9DIO\",\"Combo \\\"Esfihas\\\"\",\"Esfiha de Churros (COMBO)\",\"Esfiha de M&M's (COMBO)\",\"Esfiha de Carne\",\"Esfiha de frango com catupiry\",\"Esfiha de Calabresa e queijo\",\"Esfiha de Queijo\",\"Esfiha de Brigadeiro\",\"Coca Cola Lata\",\"Pide de Camar\\u00e3o\",\"Banoffee Banoffee Fatia\",\"Torta de Ninho com Oreo\",\"Coca Cola 1 Litro\",\"HAMBURGUER SMASH COM GELEIA DE BACON E CEBOLA AO SHOYO DUPLO\",\"Pide a Moda da Casa\",\"HAMBURGUER SMASH CEBOLA E BACON DUPLO\",\"CALZONE Calzone de Calabresa M\\u00c9DIO\",\"Pide de Presunto\",\"Combo \\\"DEEP DISH\\\"\",\"CALZONE Calzone de Frango com catupiry M\\u00c9DIO\",\"CALZONE Calzone Margherita M\\u00c9DIO\",\"PIZZA Pizza de Camar\\u00e3o Grande\",\"PIZZA Pizza Especial do Chef Grande\",\"Banoffee Banoffee Fatia\",\"Torta de Ninho com Oreo\",\"CALZONE Calzone de Calabresa com Catupiry M\\u00c9DIO\",\"Pide de Bacon\",\"CALZONE Calzone de Camar\\u00e3o M\\u00c9DIO\",\"Torta de Ninho com Oreo\"],\"xaxis\":\"x\",\"yaxis\":\"y\",\"type\":\"histogram\"},{\"alignmentgroup\":\"True\",\"bingroup\":\"x\",\"hovertemplate\":\"Tipo Ped.=Caixa       <br>Nome Prod=%{x}<br>count=%{y}<extra></extra>\",\"legendgroup\":\"Caixa       \",\"marker\":{\"color\":\"#EF553B\",\"pattern\":{\"shape\":\"\"}},\"name\":\"Caixa       \",\"offsetgroup\":\"Caixa       \",\"orientation\":\"v\",\"showlegend\":true,\"x\":[\"Massa artesanal - Ravioli de 3 Queijos - 250 Gr\",\"Massa artesanal - Ravioli de Frango com Requeij\\u00e3o - 250 Gr\",\"Molho de tomate artesanal - 250 Gr\"],\"xaxis\":\"x\",\"yaxis\":\"y\",\"type\":\"histogram\"}],                        {\"template\":{\"data\":{\"histogram2dcontour\":[{\"type\":\"histogram2dcontour\",\"colorbar\":{\"outlinewidth\":0,\"ticks\":\"\"},\"colorscale\":[[0.0,\"#0d0887\"],[0.1111111111111111,\"#46039f\"],[0.2222222222222222,\"#7201a8\"],[0.3333333333333333,\"#9c179e\"],[0.4444444444444444,\"#bd3786\"],[0.5555555555555556,\"#d8576b\"],[0.6666666666666666,\"#ed7953\"],[0.7777777777777778,\"#fb9f3a\"],[0.8888888888888888,\"#fdca26\"],[1.0,\"#f0f921\"]]}],\"choropleth\":[{\"type\":\"choropleth\",\"colorbar\":{\"outlinewidth\":0,\"ticks\":\"\"}}],\"histogram2d\":[{\"type\":\"histogram2d\",\"colorbar\":{\"outlinewidth\":0,\"ticks\":\"\"},\"colorscale\":[[0.0,\"#0d0887\"],[0.1111111111111111,\"#46039f\"],[0.2222222222222222,\"#7201a8\"],[0.3333333333333333,\"#9c179e\"],[0.4444444444444444,\"#bd3786\"],[0.5555555555555556,\"#d8576b\"],[0.6666666666666666,\"#ed7953\"],[0.7777777777777778,\"#fb9f3a\"],[0.8888888888888888,\"#fdca26\"],[1.0,\"#f0f921\"]]}],\"heatmap\":[{\"type\":\"heatmap\",\"colorbar\":{\"outlinewidth\":0,\"ticks\":\"\"},\"colorscale\":[[0.0,\"#0d0887\"],[0.1111111111111111,\"#46039f\"],[0.2222222222222222,\"#7201a8\"],[0.3333333333333333,\"#9c179e\"],[0.4444444444444444,\"#bd3786\"],[0.5555555555555556,\"#d8576b\"],[0.6666666666666666,\"#ed7953\"],[0.7777777777777778,\"#fb9f3a\"],[0.8888888888888888,\"#fdca26\"],[1.0,\"#f0f921\"]]}],\"heatmapgl\":[{\"type\":\"heatmapgl\",\"colorbar\":{\"outlinewidth\":0,\"ticks\":\"\"},\"colorscale\":[[0.0,\"#0d0887\"],[0.1111111111111111,\"#46039f\"],[0.2222222222222222,\"#7201a8\"],[0.3333333333333333,\"#9c179e\"],[0.4444444444444444,\"#bd3786\"],[0.5555555555555556,\"#d8576b\"],[0.6666666666666666,\"#ed7953\"],[0.7777777777777778,\"#fb9f3a\"],[0.8888888888888888,\"#fdca26\"],[1.0,\"#f0f921\"]]}],\"contourcarpet\":[{\"type\":\"contourcarpet\",\"colorbar\":{\"outlinewidth\":0,\"ticks\":\"\"}}],\"contour\":[{\"type\":\"contour\",\"colorbar\":{\"outlinewidth\":0,\"ticks\":\"\"},\"colorscale\":[[0.0,\"#0d0887\"],[0.1111111111111111,\"#46039f\"],[0.2222222222222222,\"#7201a8\"],[0.3333333333333333,\"#9c179e\"],[0.4444444444444444,\"#bd3786\"],[0.5555555555555556,\"#d8576b\"],[0.6666666666666666,\"#ed7953\"],[0.7777777777777778,\"#fb9f3a\"],[0.8888888888888888,\"#fdca26\"],[1.0,\"#f0f921\"]]}],\"surface\":[{\"type\":\"surface\",\"colorbar\":{\"outlinewidth\":0,\"ticks\":\"\"},\"colorscale\":[[0.0,\"#0d0887\"],[0.1111111111111111,\"#46039f\"],[0.2222222222222222,\"#7201a8\"],[0.3333333333333333,\"#9c179e\"],[0.4444444444444444,\"#bd3786\"],[0.5555555555555556,\"#d8576b\"],[0.6666666666666666,\"#ed7953\"],[0.7777777777777778,\"#fb9f3a\"],[0.8888888888888888,\"#fdca26\"],[1.0,\"#f0f921\"]]}],\"mesh3d\":[{\"type\":\"mesh3d\",\"colorbar\":{\"outlinewidth\":0,\"ticks\":\"\"}}],\"scatter\":[{\"fillpattern\":{\"fillmode\":\"overlay\",\"size\":10,\"solidity\":0.2},\"type\":\"scatter\"}],\"parcoords\":[{\"type\":\"parcoords\",\"line\":{\"colorbar\":{\"outlinewidth\":0,\"ticks\":\"\"}}}],\"scatterpolargl\":[{\"type\":\"scatterpolargl\",\"marker\":{\"colorbar\":{\"outlinewidth\":0,\"ticks\":\"\"}}}],\"bar\":[{\"error_x\":{\"color\":\"#2a3f5f\"},\"error_y\":{\"color\":\"#2a3f5f\"},\"marker\":{\"line\":{\"color\":\"#E5ECF6\",\"width\":0.5},\"pattern\":{\"fillmode\":\"overlay\",\"size\":10,\"solidity\":0.2}},\"type\":\"bar\"}],\"scattergeo\":[{\"type\":\"scattergeo\",\"marker\":{\"colorbar\":{\"outlinewidth\":0,\"ticks\":\"\"}}}],\"scatterpolar\":[{\"type\":\"scatterpolar\",\"marker\":{\"colorbar\":{\"outlinewidth\":0,\"ticks\":\"\"}}}],\"histogram\":[{\"marker\":{\"pattern\":{\"fillmode\":\"overlay\",\"size\":10,\"solidity\":0.2}},\"type\":\"histogram\"}],\"scattergl\":[{\"type\":\"scattergl\",\"marker\":{\"colorbar\":{\"outlinewidth\":0,\"ticks\":\"\"}}}],\"scatter3d\":[{\"type\":\"scatter3d\",\"line\":{\"colorbar\":{\"outlinewidth\":0,\"ticks\":\"\"}},\"marker\":{\"colorbar\":{\"outlinewidth\":0,\"ticks\":\"\"}}}],\"scattermapbox\":[{\"type\":\"scattermapbox\",\"marker\":{\"colorbar\":{\"outlinewidth\":0,\"ticks\":\"\"}}}],\"scatterternary\":[{\"type\":\"scatterternary\",\"marker\":{\"colorbar\":{\"outlinewidth\":0,\"ticks\":\"\"}}}],\"scattercarpet\":[{\"type\":\"scattercarpet\",\"marker\":{\"colorbar\":{\"outlinewidth\":0,\"ticks\":\"\"}}}],\"carpet\":[{\"aaxis\":{\"endlinecolor\":\"#2a3f5f\",\"gridcolor\":\"white\",\"linecolor\":\"white\",\"minorgridcolor\":\"white\",\"startlinecolor\":\"#2a3f5f\"},\"baxis\":{\"endlinecolor\":\"#2a3f5f\",\"gridcolor\":\"white\",\"linecolor\":\"white\",\"minorgridcolor\":\"white\",\"startlinecolor\":\"#2a3f5f\"},\"type\":\"carpet\"}],\"table\":[{\"cells\":{\"fill\":{\"color\":\"#EBF0F8\"},\"line\":{\"color\":\"white\"}},\"header\":{\"fill\":{\"color\":\"#C8D4E3\"},\"line\":{\"color\":\"white\"}},\"type\":\"table\"}],\"barpolar\":[{\"marker\":{\"line\":{\"color\":\"#E5ECF6\",\"width\":0.5},\"pattern\":{\"fillmode\":\"overlay\",\"size\":10,\"solidity\":0.2}},\"type\":\"barpolar\"}],\"pie\":[{\"automargin\":true,\"type\":\"pie\"}]},\"layout\":{\"autotypenumbers\":\"strict\",\"colorway\":[\"#636efa\",\"#EF553B\",\"#00cc96\",\"#ab63fa\",\"#FFA15A\",\"#19d3f3\",\"#FF6692\",\"#B6E880\",\"#FF97FF\",\"#FECB52\"],\"font\":{\"color\":\"#2a3f5f\"},\"hovermode\":\"closest\",\"hoverlabel\":{\"align\":\"left\"},\"paper_bgcolor\":\"white\",\"plot_bgcolor\":\"#E5ECF6\",\"polar\":{\"bgcolor\":\"#E5ECF6\",\"angularaxis\":{\"gridcolor\":\"white\",\"linecolor\":\"white\",\"ticks\":\"\"},\"radialaxis\":{\"gridcolor\":\"white\",\"linecolor\":\"white\",\"ticks\":\"\"}},\"ternary\":{\"bgcolor\":\"#E5ECF6\",\"aaxis\":{\"gridcolor\":\"white\",\"linecolor\":\"white\",\"ticks\":\"\"},\"baxis\":{\"gridcolor\":\"white\",\"linecolor\":\"white\",\"ticks\":\"\"},\"caxis\":{\"gridcolor\":\"white\",\"linecolor\":\"white\",\"ticks\":\"\"}},\"coloraxis\":{\"colorbar\":{\"outlinewidth\":0,\"ticks\":\"\"}},\"colorscale\":{\"sequential\":[[0.0,\"#0d0887\"],[0.1111111111111111,\"#46039f\"],[0.2222222222222222,\"#7201a8\"],[0.3333333333333333,\"#9c179e\"],[0.4444444444444444,\"#bd3786\"],[0.5555555555555556,\"#d8576b\"],[0.6666666666666666,\"#ed7953\"],[0.7777777777777778,\"#fb9f3a\"],[0.8888888888888888,\"#fdca26\"],[1.0,\"#f0f921\"]],\"sequentialminus\":[[0.0,\"#0d0887\"],[0.1111111111111111,\"#46039f\"],[0.2222222222222222,\"#7201a8\"],[0.3333333333333333,\"#9c179e\"],[0.4444444444444444,\"#bd3786\"],[0.5555555555555556,\"#d8576b\"],[0.6666666666666666,\"#ed7953\"],[0.7777777777777778,\"#fb9f3a\"],[0.8888888888888888,\"#fdca26\"],[1.0,\"#f0f921\"]],\"diverging\":[[0,\"#8e0152\"],[0.1,\"#c51b7d\"],[0.2,\"#de77ae\"],[0.3,\"#f1b6da\"],[0.4,\"#fde0ef\"],[0.5,\"#f7f7f7\"],[0.6,\"#e6f5d0\"],[0.7,\"#b8e186\"],[0.8,\"#7fbc41\"],[0.9,\"#4d9221\"],[1,\"#276419\"]]},\"xaxis\":{\"gridcolor\":\"white\",\"linecolor\":\"white\",\"ticks\":\"\",\"title\":{\"standoff\":15},\"zerolinecolor\":\"white\",\"automargin\":true,\"zerolinewidth\":2},\"yaxis\":{\"gridcolor\":\"white\",\"linecolor\":\"white\",\"ticks\":\"\",\"title\":{\"standoff\":15},\"zerolinecolor\":\"white\",\"automargin\":true,\"zerolinewidth\":2},\"scene\":{\"xaxis\":{\"backgroundcolor\":\"#E5ECF6\",\"gridcolor\":\"white\",\"linecolor\":\"white\",\"showbackground\":true,\"ticks\":\"\",\"zerolinecolor\":\"white\",\"gridwidth\":2},\"yaxis\":{\"backgroundcolor\":\"#E5ECF6\",\"gridcolor\":\"white\",\"linecolor\":\"white\",\"showbackground\":true,\"ticks\":\"\",\"zerolinecolor\":\"white\",\"gridwidth\":2},\"zaxis\":{\"backgroundcolor\":\"#E5ECF6\",\"gridcolor\":\"white\",\"linecolor\":\"white\",\"showbackground\":true,\"ticks\":\"\",\"zerolinecolor\":\"white\",\"gridwidth\":2}},\"shapedefaults\":{\"line\":{\"color\":\"#2a3f5f\"}},\"annotationdefaults\":{\"arrowcolor\":\"#2a3f5f\",\"arrowhead\":0,\"arrowwidth\":1},\"geo\":{\"bgcolor\":\"white\",\"landcolor\":\"#E5ECF6\",\"subunitcolor\":\"white\",\"showland\":true,\"showlakes\":true,\"lakecolor\":\"white\"},\"title\":{\"x\":0.05},\"mapbox\":{\"style\":\"light\"}}},\"xaxis\":{\"anchor\":\"y\",\"domain\":[0.0,1.0],\"title\":{\"text\":\"Nome Prod\"}},\"yaxis\":{\"anchor\":\"x\",\"domain\":[0.0,1.0],\"title\":{\"text\":\"count\"}},\"legend\":{\"title\":{\"text\":\"Tipo Ped.\"},\"tracegroupgap\":0},\"margin\":{\"t\":60},\"barmode\":\"relative\"},                        {\"responsive\": true}                    ).then(function(){\n",
       "                            \n",
       "var gd = document.getElementById('9e129048-b443-4974-bfce-9a2bc0ba3293');\n",
       "var x = new MutationObserver(function (mutations, observer) {{\n",
       "        var display = window.getComputedStyle(gd).display;\n",
       "        if (!display || display === 'none') {{\n",
       "            console.log([gd, 'removed!']);\n",
       "            Plotly.purge(gd);\n",
       "            observer.disconnect();\n",
       "        }}\n",
       "}});\n",
       "\n",
       "// Listen for the removal of the full notebook cells\n",
       "var notebookContainer = gd.closest('#notebook-container');\n",
       "if (notebookContainer) {{\n",
       "    x.observe(notebookContainer, {childList: true});\n",
       "}}\n",
       "\n",
       "// Listen for the clearing of the current output cell\n",
       "var outputEl = gd.closest('.output');\n",
       "if (outputEl) {{\n",
       "    x.observe(outputEl, {childList: true});\n",
       "}}\n",
       "\n",
       "                        })                };                });            </script>        </div>"
      ]
     },
     "metadata": {},
     "output_type": "display_data"
    }
   ],
   "source": [
    "display (tabela)\n",
    "import plotly.express as px\n",
    "grafico = px.histogram(tabela, x =\"Nome Prod\", color =\"Tipo Ped.\")\n",
    "grafico.show()"
   ]
  }
 ],
 "metadata": {
  "kernelspec": {
   "display_name": "Python 3 (ipykernel)",
   "language": "python",
   "name": "python3"
  },
  "language_info": {
   "codemirror_mode": {
    "name": "ipython",
    "version": 3
   },
   "file_extension": ".py",
   "mimetype": "text/x-python",
   "name": "python",
   "nbconvert_exporter": "python",
   "pygments_lexer": "ipython3",
   "version": "3.9.7"
  }
 },
 "nbformat": 4,
 "nbformat_minor": 5
}
